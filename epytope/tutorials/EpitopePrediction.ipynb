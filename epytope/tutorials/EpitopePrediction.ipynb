{
 "cells": [
  {
   "cell_type": "markdown",
   "metadata": {},
   "source": [
    "<h1> Epitope Prediction </h1>\n",
    "\n",
    "This tutorial illustrates the use of epytope to predict HLA-I/II epitopes and how to analyze results. epytope offers a long list of epitope prediction methods and was designed in such a way that extending epytope with your favorite method is easy.\n",
    "\n",
    "This tutorial will entail:\n",
    "- Simple epitope prediction from a list of peptide sequences and protein sequences\n",
    "- Manipulation of the results\n",
    "- Consensus prediction with multiple prediction methods\n",
    "- Integration of a new prediction method\n"
   ]
  },
  {
   "cell_type": "markdown",
   "metadata": {
    "collapsed": true
   },
   "source": [
    "<h2> Chapter 1: The basics </h2>\n",
    "<br/>\n",
    "We first start with importing the needed packages."
   ]
  },
  {
   "cell_type": "code",
   "execution_count": 1,
   "metadata": {},
   "outputs": [
    {
     "name": "stderr",
     "output_type": "stream",
     "text": [
      "Using TensorFlow backend.\n"
     ]
    }
   ],
   "source": [
    "%matplotlib inline\n",
    "%reload_ext autoreload\n",
    "%autoreload 2\n",
    "\n",
    "from epytope.Core import Allele, Peptide, Protein,generate_peptides_from_proteins\n",
    "from epytope.IO import read_lines, read_fasta\n",
    "from epytope.EpitopePrediction import EpitopePredictorFactory"
   ]
  },
  {
   "cell_type": "markdown",
   "metadata": {},
   "source": [
    "Lets start of with something simple: Defining peptides, and HLA alleles. You find all basic classes under `epytope.Core`. HLA alleles have to be defined in new nomenclature (see: <a href=\"http://hla.alleles.org/\">http://hla.alleles.org/</a>)."
   ]
  },
  {
   "cell_type": "code",
   "execution_count": 2,
   "metadata": {},
   "outputs": [],
   "source": [
    "peptides = [Peptide(\"SYFPEITHI\"),Peptide(\"FIASNGVKL\"), Peptide(\"LLGATCMFV\")]\n",
    "allele = Allele(\"HLA-A*02:01\")"
   ]
  },
  {
   "cell_type": "markdown",
   "metadata": {},
   "source": [
    "Of course we don't have to specify all peptides and alleles by hand. We can also read those from file with `read_lines`. For doing so, the file has to contain the peptide sequences and HLA alleles one per line. "
   ]
  },
  {
   "cell_type": "code",
   "execution_count": 3,
   "metadata": {},
   "outputs": [],
   "source": [
    "peptides2 = read_lines(\"./data/peptides.txt\", in_type=Peptide)\n",
    "alleles = read_lines(\"./data/alleles.txt\", in_type=Allele)"
   ]
  },
  {
   "cell_type": "markdown",
   "metadata": {},
   "source": [
    "Proteins are a bit more complicated. They require a amino acid sequence as well as a transcript and gene ID. If `read_lines` is used generic transcript IDs are generated. Or one can use `read_fasta` to read in protein sequences in FASTA format. But one has to specify at which position of the fasta entries  the transcript ID is (based on the contained |). For example if the fasta file has the following structure\n",
    "\n",
    "\n",
    ">\\>ID_Type|Gene_ID|ID_Type|Trancsript_ID|comment<br/>\n",
    ">AAAAAAAA\n",
    "\n",
    "we would call read_fasta as follows:\n"
   ]
  },
  {
   "cell_type": "code",
   "execution_count": 4,
   "metadata": {},
   "outputs": [
    {
     "name": "stdout",
     "output_type": "stream",
     "text": [
      "[PROTEIN: IPVIIERYKGEKQLPVLDKTKFLVPDHVNMSELVKI (aa-seq)\n",
      "\t\t  NP_852610_part2 (orig transcript)\n",
      "\t\t VARIANTS:\n",
      ", PROTEIN: MKMRFFSSPCGKAAVDPADRCKEVQQIRDQHPSK (aa-seq)\n",
      "\t\t  NP_852610.1 (orig transcript)\n",
      "\t\t VARIANTS:\n",
      "]\n"
     ]
    }
   ],
   "source": [
    "proteins = read_fasta(\"./data/proteins.fasta\", id_position=3, in_type=Protein)\n",
    "print(proteins)"
   ]
  },
  {
   "cell_type": "markdown",
   "metadata": {},
   "source": [
    "To be able to use proteins for prediction, we first have to generate k-mers of the sequences. For that we use the function `generate_peptides_from_protein`, which generates unique peptide k-mers based on the given protein sequences. These peptides are associated with the proteins from which they origin."
   ]
  },
  {
   "cell_type": "code",
   "execution_count": 5,
   "metadata": {},
   "outputs": [],
   "source": [
    "peptide3 = generate_peptides_from_proteins(proteins, 9)"
   ]
  },
  {
   "cell_type": "markdown",
   "metadata": {},
   "source": [
    "epytope has only one entry point to the different prediction methods, namely `EpitopePredictorFactory`. It handles the initialization of the different methods and also collects newly implemented prediction methods if properly implemented. To see which prediction methods epytope supports `EpitopePredictorFactory` can helps here as well:"
   ]
  },
  {
   "cell_type": "code",
   "execution_count": 6,
   "metadata": {},
   "outputs": [
    {
     "name": "stdout",
     "output_type": "stream",
     "text": [
      "netmhc 3.0a,3.4,4.0\n",
      "netmhcpan 2.4,2.8,3.0,4.0\n",
      "netmhcstabpan 1.0\n",
      "netmhcii 2.2\n",
      "netmhciipan 3.0,3.1\n",
      "pickpocket 1.1\n",
      "netctlpan 1.1\n",
      "syfpeithi 1.0\n",
      "bimas 1.0\n",
      "epidemix 1.0\n",
      "hammer 1.0\n",
      "smm 1.0\n",
      "smmpmbec 1.0\n",
      "arb 1.0\n",
      "comblibsidney 1.0\n",
      "tepitopepan 1.0\n",
      "calisimm 1.0\n",
      "mhcnuggets-class-1 2.0,2.3.2\n",
      "mhcnuggets-class-2 2.0,2.3.2\n",
      "mhcflurry 1.2.2,1.4.3\n"
     ]
    }
   ],
   "source": [
    "for name,version in EpitopePredictorFactory.available_methods().items():\n",
    "    print(name, \",\".join(version))"
   ]
  },
  {
   "cell_type": "markdown",
   "metadata": {},
   "source": [
    "Lets select one and do predictions. "
   ]
  },
  {
   "cell_type": "code",
   "execution_count": 7,
   "metadata": {
    "scrolled": true
   },
   "outputs": [
    {
     "data": {
      "text/html": [
       "<div>\n",
       "<style scoped>\n",
       "    .dataframe tbody tr th:only-of-type {\n",
       "        vertical-align: middle;\n",
       "    }\n",
       "\n",
       "    .dataframe tbody tr th {\n",
       "        vertical-align: top;\n",
       "    }\n",
       "\n",
       "    .dataframe thead th {\n",
       "        text-align: right;\n",
       "    }\n",
       "</style>\n",
       "<table border=\"1\" class=\"dataframe\">\n",
       "  <thead>\n",
       "    <tr style=\"text-align: right;\">\n",
       "      <th></th>\n",
       "      <th></th>\n",
       "      <th>HLA-A*02:01</th>\n",
       "      <th>HLA-B*15:01</th>\n",
       "    </tr>\n",
       "    <tr>\n",
       "      <th>Seq</th>\n",
       "      <th>Method</th>\n",
       "      <th></th>\n",
       "      <th></th>\n",
       "    </tr>\n",
       "  </thead>\n",
       "  <tbody>\n",
       "    <tr>\n",
       "      <th>(T, V, A, T, L, I, S, I, N)</th>\n",
       "      <th>syfpeithi</th>\n",
       "      <td>11</td>\n",
       "      <td>9</td>\n",
       "    </tr>\n",
       "    <tr>\n",
       "      <th>(Y, N, T, V, A, T, L, I, S)</th>\n",
       "      <th>syfpeithi</th>\n",
       "      <td>4</td>\n",
       "      <td>2</td>\n",
       "    </tr>\n",
       "    <tr>\n",
       "      <th>(H, I, S, L, A, N, G, H, D)</th>\n",
       "      <th>syfpeithi</th>\n",
       "      <td>8</td>\n",
       "      <td>6</td>\n",
       "    </tr>\n",
       "    <tr>\n",
       "      <th>(N, T, V, A, T, L, I, S, I)</th>\n",
       "      <th>syfpeithi</th>\n",
       "      <td>18</td>\n",
       "      <td>1</td>\n",
       "    </tr>\n",
       "    <tr>\n",
       "      <th>(N, T, H, I, S, L, A, N, G)</th>\n",
       "      <th>syfpeithi</th>\n",
       "      <td>10</td>\n",
       "      <td>0</td>\n",
       "    </tr>\n",
       "  </tbody>\n",
       "</table>\n",
       "</div>"
      ],
      "text/plain": [
       "                                       HLA-A*02:01  HLA-B*15:01\n",
       "Seq                         Method                             \n",
       "(T, V, A, T, L, I, S, I, N) syfpeithi           11            9\n",
       "(Y, N, T, V, A, T, L, I, S) syfpeithi            4            2\n",
       "(H, I, S, L, A, N, G, H, D) syfpeithi            8            6\n",
       "(N, T, V, A, T, L, I, S, I) syfpeithi           18            1\n",
       "(N, T, H, I, S, L, A, N, G) syfpeithi           10            0"
      ]
     },
     "execution_count": 7,
     "metadata": {},
     "output_type": "execute_result"
    }
   ],
   "source": [
    "predictor = EpitopePredictorFactory(\"Syfpeithi\")\n",
    "results = predictor.predict(peptides2, alleles=alleles)\n",
    "results.head()"
   ]
  },
  {
   "cell_type": "markdown",
   "metadata": {},
   "source": [
    "To initialize particular version of a prediction method, we can use the flag `version=\"\"` when calling the PredictorFactories. If we do not specify any version, epytope will initialize the most recent version that is supported."
   ]
  },
  {
   "cell_type": "code",
   "execution_count": 8,
   "metadata": {},
   "outputs": [
    {
     "data": {
      "text/html": [
       "<div>\n",
       "<style scoped>\n",
       "    .dataframe tbody tr th:only-of-type {\n",
       "        vertical-align: middle;\n",
       "    }\n",
       "\n",
       "    .dataframe tbody tr th {\n",
       "        vertical-align: top;\n",
       "    }\n",
       "\n",
       "    .dataframe thead th {\n",
       "        text-align: right;\n",
       "    }\n",
       "</style>\n",
       "<table border=\"1\" class=\"dataframe\">\n",
       "  <thead>\n",
       "    <tr style=\"text-align: right;\">\n",
       "      <th></th>\n",
       "      <th></th>\n",
       "      <th>HLA-A*02:01</th>\n",
       "      <th>HLA-B*15:01</th>\n",
       "    </tr>\n",
       "    <tr>\n",
       "      <th>Seq</th>\n",
       "      <th>Method</th>\n",
       "      <th></th>\n",
       "      <th></th>\n",
       "    </tr>\n",
       "  </thead>\n",
       "  <tbody>\n",
       "    <tr>\n",
       "      <th>(T, V, A, T, L, I, S, I, N)</th>\n",
       "      <th>syfpeithi</th>\n",
       "      <td>11</td>\n",
       "      <td>9</td>\n",
       "    </tr>\n",
       "    <tr>\n",
       "      <th>(Y, N, T, V, A, T, L, I, S)</th>\n",
       "      <th>syfpeithi</th>\n",
       "      <td>4</td>\n",
       "      <td>2</td>\n",
       "    </tr>\n",
       "    <tr>\n",
       "      <th>(H, I, S, L, A, N, G, H, D)</th>\n",
       "      <th>syfpeithi</th>\n",
       "      <td>8</td>\n",
       "      <td>6</td>\n",
       "    </tr>\n",
       "    <tr>\n",
       "      <th>(N, T, V, A, T, L, I, S, I)</th>\n",
       "      <th>syfpeithi</th>\n",
       "      <td>18</td>\n",
       "      <td>1</td>\n",
       "    </tr>\n",
       "    <tr>\n",
       "      <th>(N, T, H, I, S, L, A, N, G)</th>\n",
       "      <th>syfpeithi</th>\n",
       "      <td>10</td>\n",
       "      <td>0</td>\n",
       "    </tr>\n",
       "  </tbody>\n",
       "</table>\n",
       "</div>"
      ],
      "text/plain": [
       "                                       HLA-A*02:01  HLA-B*15:01\n",
       "Seq                         Method                             \n",
       "(T, V, A, T, L, I, S, I, N) syfpeithi           11            9\n",
       "(Y, N, T, V, A, T, L, I, S) syfpeithi            4            2\n",
       "(H, I, S, L, A, N, G, H, D) syfpeithi            8            6\n",
       "(N, T, V, A, T, L, I, S, I) syfpeithi           18            1\n",
       "(N, T, H, I, S, L, A, N, G) syfpeithi           10            0"
      ]
     },
     "execution_count": 8,
     "metadata": {},
     "output_type": "execute_result"
    }
   ],
   "source": [
    "predictor = EpitopePredictorFactory(\"Syfpeithi\", version=\"1.0\")\n",
    "results = predictor.predict(peptides2, alleles=alleles)\n",
    "results.head()"
   ]
  },
  {
   "cell_type": "markdown",
   "metadata": {},
   "source": [
    "External tools like `NetMHC` offer two additional flags when calling `.predict()`, `command=\"/path/to/binary\"` and `options=\"command options\"`. `command=\"\"` specifies the path to an alternative binary that should be used instead of the one that is globally registered. With `options=\"\"` you can specify additional commands that will directly be passed to the command line call without any sanity checks."
   ]
  },
  {
   "cell_type": "code",
   "execution_count": 9,
   "metadata": {},
   "outputs": [
    {
     "data": {
      "text/html": [
       "<div>\n",
       "<style scoped>\n",
       "    .dataframe tbody tr th:only-of-type {\n",
       "        vertical-align: middle;\n",
       "    }\n",
       "\n",
       "    .dataframe tbody tr th {\n",
       "        vertical-align: top;\n",
       "    }\n",
       "\n",
       "    .dataframe thead th {\n",
       "        text-align: right;\n",
       "    }\n",
       "</style>\n",
       "<table border=\"1\" class=\"dataframe\">\n",
       "  <thead>\n",
       "    <tr style=\"text-align: right;\">\n",
       "      <th></th>\n",
       "      <th></th>\n",
       "      <th>HLA-A*02:01</th>\n",
       "      <th>HLA-B*15:01</th>\n",
       "    </tr>\n",
       "    <tr>\n",
       "      <th>Seq</th>\n",
       "      <th>Method</th>\n",
       "      <th></th>\n",
       "      <th></th>\n",
       "    </tr>\n",
       "  </thead>\n",
       "  <tbody>\n",
       "    <tr>\n",
       "      <th>(T, V, A, T, L, I, S, I, N)</th>\n",
       "      <th>syfpeithi</th>\n",
       "      <td>11</td>\n",
       "      <td>9</td>\n",
       "    </tr>\n",
       "    <tr>\n",
       "      <th>(Y, N, T, V, A, T, L, I, S)</th>\n",
       "      <th>syfpeithi</th>\n",
       "      <td>4</td>\n",
       "      <td>2</td>\n",
       "    </tr>\n",
       "    <tr>\n",
       "      <th>(H, I, S, L, A, N, G, H, D)</th>\n",
       "      <th>syfpeithi</th>\n",
       "      <td>8</td>\n",
       "      <td>6</td>\n",
       "    </tr>\n",
       "    <tr>\n",
       "      <th>(N, T, V, A, T, L, I, S, I)</th>\n",
       "      <th>syfpeithi</th>\n",
       "      <td>18</td>\n",
       "      <td>1</td>\n",
       "    </tr>\n",
       "    <tr>\n",
       "      <th>(N, T, H, I, S, L, A, N, G)</th>\n",
       "      <th>syfpeithi</th>\n",
       "      <td>10</td>\n",
       "      <td>0</td>\n",
       "    </tr>\n",
       "  </tbody>\n",
       "</table>\n",
       "</div>"
      ],
      "text/plain": [
       "                                       HLA-A*02:01  HLA-B*15:01\n",
       "Seq                         Method                             \n",
       "(T, V, A, T, L, I, S, I, N) syfpeithi           11            9\n",
       "(Y, N, T, V, A, T, L, I, S) syfpeithi            4            2\n",
       "(H, I, S, L, A, N, G, H, D) syfpeithi            8            6\n",
       "(N, T, V, A, T, L, I, S, I) syfpeithi           18            1\n",
       "(N, T, H, I, S, L, A, N, G) syfpeithi           10            0"
      ]
     },
     "execution_count": 9,
     "metadata": {},
     "output_type": "execute_result"
    }
   ],
   "source": [
    "predictor = EpitopePredictorFactory(\"Syfpeithi\", version=\"1.0\")\n",
    "results = predictor.predict(peptides2, alleles=alleles, options=\"-s -b\") \n",
    "results.head()"
   ]
  },
  {
   "cell_type": "markdown",
   "metadata": {},
   "source": [
    "<h2> Chapter 2: Data manipulation and consensus prediction</h2>\n",
    "<br/>\n",
    "The predictor all return a data table like object (DataFrame) storing the peptide and allele objects, as well as the predicted results. Because it is a inherited pandas DataFrame we can do all sorts of nifty thinks. \n",
    "\n",
    "For example exporting the results to csv:"
   ]
  },
  {
   "cell_type": "code",
   "execution_count": 10,
   "metadata": {},
   "outputs": [],
   "source": [
    "results.to_csv('./data/test.csv', sep='\\t')"
   ]
  },
  {
   "cell_type": "markdown",
   "metadata": {},
   "source": [
    "Or we could plot the score distribution of a particular HLA allele."
   ]
  },
  {
   "cell_type": "code",
   "execution_count": 11,
   "metadata": {},
   "outputs": [
    {
     "data": {
      "text/plain": [
       "array([[<AxesSubplot:title={'center':'HLA-A*02:01'}>,\n",
       "        <AxesSubplot:title={'center':'HLA-B*15:01'}>]], dtype=object)"
      ]
     },
     "execution_count": 11,
     "metadata": {},
     "output_type": "execute_result"
    },
    {
     "data": {
      "image/png": "[encoded data removed]",
      "text/plain": [
       "<Figure size 432x288 with 2 Axes>"
      ]
     },
     "metadata": {
      "needs_background": "light"
     },
     "output_type": "display_data"
    }
   ],
   "source": [
    "results.hist()"
   ]
  },
  {
   "cell_type": "markdown",
   "metadata": {},
   "source": [
    "To combine prediction results we can use `merge_results` from `epytope.Core`. In addition to the result object we want to merge, also have to specify the type of these objects (here `EpitopePredictionResult`). The function will return a merged results object of the same type."
   ]
  },
  {
   "cell_type": "code",
   "execution_count": 12,
   "metadata": {},
   "outputs": [
    {
     "data": {
      "text/html": [
       "<div>\n",
       "<style scoped>\n",
       "    .dataframe tbody tr th:only-of-type {\n",
       "        vertical-align: middle;\n",
       "    }\n",
       "\n",
       "    .dataframe tbody tr th {\n",
       "        vertical-align: top;\n",
       "    }\n",
       "\n",
       "    .dataframe thead th {\n",
       "        text-align: right;\n",
       "    }\n",
       "</style>\n",
       "<table border=\"1\" class=\"dataframe\">\n",
       "  <thead>\n",
       "    <tr style=\"text-align: right;\">\n",
       "      <th></th>\n",
       "      <th></th>\n",
       "      <th>HLA-A*02:01</th>\n",
       "      <th>HLA-B*15:01</th>\n",
       "    </tr>\n",
       "    <tr>\n",
       "      <th>Seq</th>\n",
       "      <th>Method</th>\n",
       "      <th></th>\n",
       "      <th></th>\n",
       "    </tr>\n",
       "  </thead>\n",
       "  <tbody>\n",
       "    <tr>\n",
       "      <th rowspan=\"3\" valign=\"top\">(F, I, A, S, N, G, V, K, L)</th>\n",
       "      <th>bimas</th>\n",
       "      <td>NaN</td>\n",
       "      <td>NaN</td>\n",
       "    </tr>\n",
       "    <tr>\n",
       "      <th>smm</th>\n",
       "      <td>NaN</td>\n",
       "      <td>NaN</td>\n",
       "    </tr>\n",
       "    <tr>\n",
       "      <th>syfpeithi</th>\n",
       "      <td>NaN</td>\n",
       "      <td>NaN</td>\n",
       "    </tr>\n",
       "    <tr>\n",
       "      <th rowspan=\"3\" valign=\"top\">(L, L, G, A, T, C, M, F, V)</th>\n",
       "      <th>bimas</th>\n",
       "      <td>NaN</td>\n",
       "      <td>NaN</td>\n",
       "    </tr>\n",
       "    <tr>\n",
       "      <th>smm</th>\n",
       "      <td>NaN</td>\n",
       "      <td>NaN</td>\n",
       "    </tr>\n",
       "    <tr>\n",
       "      <th>syfpeithi</th>\n",
       "      <td>NaN</td>\n",
       "      <td>NaN</td>\n",
       "    </tr>\n",
       "    <tr>\n",
       "      <th rowspan=\"3\" valign=\"top\">(S, Y, F, P, E, I, T, H, I)</th>\n",
       "      <th>bimas</th>\n",
       "      <td>NaN</td>\n",
       "      <td>NaN</td>\n",
       "    </tr>\n",
       "    <tr>\n",
       "      <th>smm</th>\n",
       "      <td>NaN</td>\n",
       "      <td>NaN</td>\n",
       "    </tr>\n",
       "    <tr>\n",
       "      <th>syfpeithi</th>\n",
       "      <td>NaN</td>\n",
       "      <td>NaN</td>\n",
       "    </tr>\n",
       "  </tbody>\n",
       "</table>\n",
       "</div>"
      ],
      "text/plain": [
       "                                       HLA-A*02:01  HLA-B*15:01\n",
       "Seq                         Method                             \n",
       "(F, I, A, S, N, G, V, K, L) bimas              NaN          NaN\n",
       "                            smm                NaN          NaN\n",
       "                            syfpeithi          NaN          NaN\n",
       "(L, L, G, A, T, C, M, F, V) bimas              NaN          NaN\n",
       "                            smm                NaN          NaN\n",
       "                            syfpeithi          NaN          NaN\n",
       "(S, Y, F, P, E, I, T, H, I) bimas              NaN          NaN\n",
       "                            smm                NaN          NaN\n",
       "                            syfpeithi          NaN          NaN"
      ]
     },
     "execution_count": 12,
     "metadata": {},
     "output_type": "execute_result"
    }
   ],
   "source": [
    "results = [EpitopePredictorFactory(m).predict(peptides,alleles=alleles) \n",
    "                    for m in [\"Syfpeithi\",\"BIMAS\",\"SMM\"]]\n",
    "df = results[0].merge_results(results[1:])\n",
    "df"
   ]
  },
  {
   "cell_type": "markdown",
   "metadata": {
    "collapsed": true
   },
   "source": [
    "We also can filter the predicted epitopes based on their prediction values with the function `filter_result` from `epytope.Core`."
   ]
  },
  {
   "cell_type": "code",
   "execution_count": 13,
   "metadata": {
    "scrolled": true
   },
   "outputs": [
    {
     "data": {
      "text/html": [
       "<div>\n",
       "<style scoped>\n",
       "    .dataframe tbody tr th:only-of-type {\n",
       "        vertical-align: middle;\n",
       "    }\n",
       "\n",
       "    .dataframe tbody tr th {\n",
       "        vertical-align: top;\n",
       "    }\n",
       "\n",
       "    .dataframe thead th {\n",
       "        text-align: right;\n",
       "    }\n",
       "</style>\n",
       "<table border=\"1\" class=\"dataframe\">\n",
       "  <thead>\n",
       "    <tr style=\"text-align: right;\">\n",
       "      <th></th>\n",
       "      <th></th>\n",
       "      <th>HLA-A*02:01</th>\n",
       "      <th>HLA-B*15:01</th>\n",
       "    </tr>\n",
       "    <tr>\n",
       "      <th>Seq</th>\n",
       "      <th>Method</th>\n",
       "      <th></th>\n",
       "      <th></th>\n",
       "    </tr>\n",
       "  </thead>\n",
       "  <tbody>\n",
       "  </tbody>\n",
       "</table>\n",
       "</div>"
      ],
      "text/plain": [
       "Empty EpitopePredictionResult\n",
       "Columns: [HLA-A*02:01, HLA-B*15:01]\n",
       "Index: []"
      ]
     },
     "execution_count": 13,
     "metadata": {},
     "output_type": "execute_result"
    }
   ],
   "source": [
    "#you can either use pre-defined operators from `operator`\n",
    "from operator import ge\n",
    "#or define you own comparator function like this\n",
    "comparator = lambda a,b: a > b\n",
    "\n",
    "df.filter_result([(\"syfpeithi\",comparator,0.0)])\n"
   ]
  },
  {
   "cell_type": "markdown",
   "metadata": {},
   "source": [
    "With that one can combine several prediction tools to form a consensus prediction method.<br/><br/>\n",
    "<h2> Chapter 3: Implementation of a new epitope prediction method </h2>\n",
    "\n",
    "epytope possesses a potent plugin system allowing the user to extend its capability quite easily. To include a new epitope prediction method one simply has to inherit from `epytope.Core.AEpitopePrediction` and implement its interface. For methods calling an external prediction tool additionally have to inherit from `epytope.Core.AExternal`. \n",
    "\n",
    "If you want to be very specific and fully integrate your method in all of epytope's capabilities please use one of the three major interfaces `APSSMEpitopePrediction`, or `AExternalEpitopePrediction` from `epytope.EpitopePrediction`."
   ]
  },
  {
   "cell_type": "code",
   "execution_count": 14,
   "metadata": {},
   "outputs": [],
   "source": [
    "from epytope.EpitopePrediction import APSSMEpitopePrediction\n",
    "from epytope.Core import EpitopePredictionResult\n",
    "import random\n",
    "import pandas\n",
    "\n",
    "class RandomEpitopePrediction(APSSMEpitopePrediction):\n",
    "    __alleles = [\"A*02:01\"]\n",
    "    __supported_length = [9]\n",
    "    __name = \"random\"\n",
    "    __version= \"1.0\"\n",
    "    \n",
    "    #the interface defines three class properties\n",
    "    @property\n",
    "    def name(self):\n",
    "        #returns the name of the predictor\n",
    "        return self.__name\n",
    "    \n",
    "    @property\n",
    "    def supportedAlleles(self):\n",
    "        #returns the supported alleles as strings (without the HLA prefix)\n",
    "        return self.__alleles\n",
    "    \n",
    "    @property\n",
    "    def supportedLength(self):\n",
    "        #returns the supported epitope lengths as iterable\n",
    "        return self.__supported_length\n",
    "    \n",
    "    @property\n",
    "    def version(self):\n",
    "        #returns the version of the predictor\n",
    "        return self.__version\n",
    "    \n",
    "    #the interface defines a function converting epytope's HLA allele presentation\n",
    "    #into an internal presentation used by different methods.\n",
    "    #for this predictor we won't need it but still have to provide it!\n",
    "    #the function consumes a list of alleles and converts them into the internally used presentation\n",
    "    def convert_alleles(self, alleles):\n",
    "        #we just use the identity function\n",
    "        return alleles\n",
    "    \n",
    "    #additionally the interface defines a function `predict` \n",
    "    #that consumes a list of peptides or a single peptide and optionally a list \n",
    "    #of allele objects\n",
    "    #\n",
    "    #this method implements the complete prediction routine\n",
    "    def predict(self, peptides, alleles=None):\n",
    "        \n",
    "        #test whether one peptide or a list\n",
    "        if isinstance(peptides, str):\n",
    "            peptides = list(peptides)\n",
    "        \n",
    "        #if no alleles are specified do predictions for all supported alleles\n",
    "        if alleles is None:\n",
    "            alleles = self.supportedAlleles\n",
    "        else:\n",
    "            #filter for supported alleles\n",
    "            alleles = filter(lambda a: a.name in self.supportedAlleles, alleles) \n",
    "        \n",
    "        result = {}\n",
    "        #now predict binding/non-binding for each peptide at random\n",
    "        for a in alleles:\n",
    "            result[a] = {}\n",
    "            for p in peptides:\n",
    "                if random.random() >= 0.5:\n",
    "                    result[a][p] = 1.0\n",
    "                else:\n",
    "                    result[a][p] = 0.0\n",
    "        \n",
    "        #create EpitopePredictionResult object. This is a multi-indexed DataFrame \n",
    "        #with Peptide and Method as multi-index and alleles as columns\n",
    "        df_result = EpitopePredictionResult.from_dict(result)\n",
    "        df_result.index = pandas.MultiIndex.from_tuples([tuple((i,self.name)) for i in df_result.index],\n",
    "                                                        names=['Seq','Method'])\n",
    "        return df_result\n",
    "            \n",
    "    \n",
    "    \n",
    "    "
   ]
  },
  {
   "cell_type": "markdown",
   "metadata": {},
   "source": [
    "Now lets use our new predictor."
   ]
  },
  {
   "cell_type": "code",
   "execution_count": 15,
   "metadata": {},
   "outputs": [
    {
     "data": {
      "text/html": [
       "<div>\n",
       "<style scoped>\n",
       "    .dataframe tbody tr th:only-of-type {\n",
       "        vertical-align: middle;\n",
       "    }\n",
       "\n",
       "    .dataframe tbody tr th {\n",
       "        vertical-align: top;\n",
       "    }\n",
       "\n",
       "    .dataframe thead th {\n",
       "        text-align: right;\n",
       "    }\n",
       "</style>\n",
       "<table border=\"1\" class=\"dataframe\">\n",
       "  <thead>\n",
       "    <tr style=\"text-align: right;\">\n",
       "      <th></th>\n",
       "      <th></th>\n",
       "      <th>A*02:01</th>\n",
       "    </tr>\n",
       "    <tr>\n",
       "      <th>Seq</th>\n",
       "      <th>Method</th>\n",
       "      <th></th>\n",
       "    </tr>\n",
       "  </thead>\n",
       "  <tbody>\n",
       "    <tr>\n",
       "      <th>(F, I, A, S, N, G, V, K, L)</th>\n",
       "      <th>random</th>\n",
       "      <td>1.0</td>\n",
       "    </tr>\n",
       "    <tr>\n",
       "      <th>(L, L, G, A, T, C, M, F, V)</th>\n",
       "      <th>random</th>\n",
       "      <td>1.0</td>\n",
       "    </tr>\n",
       "    <tr>\n",
       "      <th>(S, Y, F, P, E, I, T, H, I)</th>\n",
       "      <th>random</th>\n",
       "      <td>1.0</td>\n",
       "    </tr>\n",
       "  </tbody>\n",
       "</table>\n",
       "</div>"
      ],
      "text/plain": [
       "                                    A*02:01\n",
       "Seq                         Method         \n",
       "(F, I, A, S, N, G, V, K, L) random      1.0\n",
       "(L, L, G, A, T, C, M, F, V) random      1.0\n",
       "(S, Y, F, P, E, I, T, H, I) random      1.0"
      ]
     },
     "execution_count": 15,
     "metadata": {},
     "output_type": "execute_result"
    }
   ],
   "source": [
    "EpitopePredictorFactory(\"random\").predict(peptides)"
   ]
  },
  {
   "cell_type": "markdown",
   "metadata": {},
   "source": [
    "The predictor is now fully integrated and can be used in any context defined by epytope."
   ]
  }
 ],
 "metadata": {
  "kernelspec": {
   "display_name": "Python 3",
   "language": "python",
   "name": "python3"
  },
  "language_info": {
   "codemirror_mode": {
    "name": "ipython",
    "version": 3
   },
   "file_extension": ".py",
   "mimetype": "text/x-python",
   "name": "python",
   "nbconvert_exporter": "python",
   "pygments_lexer": "ipython3",
   "version": "3.7.0"
  }
 },
 "nbformat": 4,
 "nbformat_minor": 1
}
