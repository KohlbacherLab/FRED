{
 "cells": [
  {
   "cell_type": "markdown",
   "metadata": {
    "collapsed": true
   },
   "source": [
    "<h1> HLA Typing </h1>\n",
    "\n",
    "This short tutorial illustrates the use of epytope to predict the HLA type from NGS data.\n",
    "\n",
    "**Note1**:\n",
    "The HLA Typing tools have to be globally executable!\n",
    "\n",
    "**Note2**:\n",
    "epytope only provides shallow wrapper classes. That means epytope directly forwards the input to the command line tools without any sanity checking and also only returns the most probable HLA genotype without any additional information, as the algorithms are very different."
   ]
  },
  {
   "cell_type": "markdown",
   "metadata": {},
   "source": [
    "<h2> Chapter 1: The basics </h2>\n",
    "<br/>\n",
    "We first start with importing the needed packages."
   ]
  },
  {
   "cell_type": "code",
   "execution_count": 1,
   "metadata": {},
   "outputs": [],
   "source": [
    "%matplotlib inline\n",
    "%load_ext autoreload\n",
    "%autoreload 2\n",
    "\n",
    "from epytope.HLAtyping import HLATypingFactory"
   ]
  },
  {
   "cell_type": "markdown",
   "metadata": {},
   "source": [
    "Now we can initialize for example `OptiType` by using the `HLATypingFactory` and predict the HLA type for a given NGS file. In this case the input is a RNA-Seq paired-end file in fastq format. But the input type can vary from prediction method to prediction method. Please familiarize yourself with the tool's options you are using."
   ]
  },
  {
   "cell_type": "markdown",
   "metadata": {},
   "source": [
    "<p><code>\n",
    ">python OptiTypePipeline.py --help  \n",
    "usage: OptiType [-h] --input INPUT [INPUT ...] (--rna | --dna) [--beta BETA]  \n",
    "                [--enumerate ENUMERATE] --outdir OUTDIR [--verbose]\n",
    "\n",
    "OptiType: 4-digit HLA typer\n",
    "\n",
    "optional arguments:\n",
    "  -h, --help            show this help message and exit\n",
    "  --input INPUT [INPUT ...], -i INPUT [INPUT ...]\n",
    "                        Fastq files with fished HLA reads. Max two files (for\n",
    "                        paired-end)\n",
    "  --rna, -r             Specifiying the mapped data as RNA.\n",
    "  --dna, -d             Specifiying the mapped data as DNA.\n",
    "  --beta BETA, -b BETA  The beta value for for homozygosity detection.\n",
    "  --enumerate ENUMERATE, -e ENUMERATE\n",
    "                        The number of enumerations.\n",
    "  --outdir OUTDIR, -o   OUTDIR\n",
    "                        Specifies the out directory to which all files should\n",
    "                        be written\n",
    "  --verbose, -v         Set verbose mode on.\n",
    "</code></p>"
   ]
  },
  {
   "cell_type": "code",
   "execution_count": 2,
   "metadata": {},
   "outputs": [
    {
     "ename": "RuntimeError",
     "evalue": "OptiType 1.0 could not be found in PATH",
     "output_type": "error",
     "traceback": [
      "\u001b[0;31m---------------------------------------------------------------------------\u001b[0m",
      "\u001b[0;31mRuntimeError\u001b[0m                              Traceback (most recent call last)",
      "\u001b[0;32m<ipython-input-2-6035220565bf>\u001b[0m in \u001b[0;36m<module>\u001b[0;34m\u001b[0m\n\u001b[1;32m      1\u001b[0m \u001b[0mopti\u001b[0m \u001b[0;34m=\u001b[0m \u001b[0mHLATypingFactory\u001b[0m\u001b[0;34m(\u001b[0m\u001b[0;34m\"OptiType\"\u001b[0m\u001b[0;34m)\u001b[0m\u001b[0;34m\u001b[0m\u001b[0m\n\u001b[0;32m----> 2\u001b[0;31m \u001b[0mopti\u001b[0m\u001b[0;34m.\u001b[0m\u001b[0mpredict\u001b[0m\u001b[0;34m(\u001b[0m\u001b[0;34m\"./Data/CRC_81_N_1_fished.fastq\"\u001b[0m\u001b[0;34m,\u001b[0m \u001b[0;34m\"/tmp/\"\u001b[0m\u001b[0;34m,\u001b[0m \u001b[0moptions\u001b[0m\u001b[0;34m=\u001b[0m\u001b[0;34m\"./Data/CRC_81_N_2_fished.fastq -r\"\u001b[0m\u001b[0;34m)\u001b[0m\u001b[0;34m\u001b[0m\u001b[0m\n\u001b[0m",
      "\u001b[0;32m~/PycharmProjects/epytope/epytope/HLAtyping/External.py\u001b[0m in \u001b[0;36mpredict\u001b[0;34m(self, ngsFile, output, command, options, delete, **kwargs)\u001b[0m\n\u001b[1;32m     40\u001b[0m         \u001b[0;32mif\u001b[0m \u001b[0;32mnot\u001b[0m \u001b[0mself\u001b[0m\u001b[0;34m.\u001b[0m\u001b[0mis_in_path\u001b[0m\u001b[0;34m(\u001b[0m\u001b[0;34m)\u001b[0m \u001b[0;32mand\u001b[0m \u001b[0;34m\"path\"\u001b[0m \u001b[0;32mnot\u001b[0m \u001b[0;32min\u001b[0m \u001b[0mkwargs\u001b[0m\u001b[0;34m:\u001b[0m\u001b[0;34m\u001b[0m\u001b[0m\n\u001b[1;32m     41\u001b[0m             raise RuntimeError(\"{name} {version} could not be found in PATH\".format(name=self.name,\n\u001b[0;32m---> 42\u001b[0;31m                                                                                     version=self.version))\n\u001b[0m\u001b[1;32m     43\u001b[0m         \u001b[0mexternal_version\u001b[0m \u001b[0;34m=\u001b[0m \u001b[0mself\u001b[0m\u001b[0;34m.\u001b[0m\u001b[0mget_external_version\u001b[0m\u001b[0;34m(\u001b[0m\u001b[0mcommand\u001b[0m\u001b[0;34m)\u001b[0m\u001b[0;34m\u001b[0m\u001b[0m\n\u001b[1;32m     44\u001b[0m         \u001b[0;32mif\u001b[0m \u001b[0mself\u001b[0m\u001b[0;34m.\u001b[0m\u001b[0mversion\u001b[0m \u001b[0;34m!=\u001b[0m \u001b[0mexternal_version\u001b[0m \u001b[0;32mand\u001b[0m \u001b[0mexternal_version\u001b[0m \u001b[0;32mis\u001b[0m \u001b[0;32mnot\u001b[0m \u001b[0;32mNone\u001b[0m\u001b[0;34m:\u001b[0m\u001b[0;34m\u001b[0m\u001b[0m\n",
      "\u001b[0;31mRuntimeError\u001b[0m: OptiType 1.0 could not be found in PATH"
     ]
    }
   ],
   "source": [
    "opti = HLATypingFactory(\"OptiType\")\n",
    "opti.predict(\"./Data/CRC_81_N_1_fished.fastq\", \"/tmp/\", options=\"./Data/CRC_81_N_2_fished.fastq -r\")"
   ]
  }
 ],
 "metadata": {
  "kernelspec": {
   "display_name": "Python 3",
   "language": "python",
   "name": "python3"
  },
  "language_info": {
   "codemirror_mode": {
    "name": "ipython",
    "version": 3
   },
   "file_extension": ".py",
   "mimetype": "text/x-python",
   "name": "python",
   "nbconvert_exporter": "python",
   "pygments_lexer": "ipython3",
   "version": "3.7.0"
  }
 },
 "nbformat": 4,
 "nbformat_minor": 1
}
